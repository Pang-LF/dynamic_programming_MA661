{
 "cells": [
  {
   "cell_type": "code",
   "execution_count": 2,
   "metadata": {},
   "outputs": [
    {
     "name": "stdout",
     "output_type": "stream",
     "text": [
      "the weight matrix is:\n",
      "    0    4    ∞    7    ∞    8    ∞    9    ∞    ∞\n",
      "    ∞    0   11    7    ∞    ∞    ∞    ∞    ∞    ∞\n",
      "    ∞    ∞    0    ∞   10    ∞    ∞    ∞    ∞   16\n",
      "    ∞    ∞    5    0   10   12    ∞    ∞    ∞    ∞\n",
      "    ∞    ∞    ∞    ∞    0    ∞    ∞    ∞    ∞    8\n",
      "    ∞    ∞    ∞    ∞   16    0   15    ∞    ∞    ∞\n",
      "    ∞    ∞    ∞    ∞    ∞    ∞    0   11    ∞    4\n",
      "    ∞    ∞    ∞    ∞    ∞    6    ∞    0   12    ∞\n",
      "    ∞    ∞    ∞    ∞    ∞    ∞    9    ∞    0   14\n",
      "    ∞    ∞    ∞    ∞    ∞    ∞    ∞    ∞    ∞    0\n",
      "===========================================\n",
      "v1 ----> v10  tol_weight: 25\n",
      "Path: 1- 4- 5- 10\n"
     ]
    }
   ],
   "source": [
    "def getPath(i, j):\n",
    "    if i != j:\n",
    "        if path[i][j] == -1:\n",
    "            print('-', j+1, end='')\n",
    "        else:\n",
    "            getPath(i, path[i][j])\n",
    "            getPath(path[i][j], j)\n",
    "\n",
    "\n",
    "def printPath(i, j):\n",
    "    print('Path:', i+1, end='')\n",
    "    getPath(i, j)\n",
    "    print()\n",
    "    \n",
    "# initialized\n",
    "vertex=10\n",
    "edge = 20\n",
    "inf = 99999999\n",
    "dis = []  # matrix of the shortest distance\n",
    "path = []  # record the shortest path\n",
    "for i in range(vertex):\n",
    "    dis += [[]]\n",
    "    for j in range(vertex):\n",
    "        if i == j:\n",
    "            dis[i].append(0)\n",
    "        else:\n",
    "            dis[i].append(inf)\n",
    "for i in range(vertex):\n",
    "    path += [[]]\n",
    "    for j in range(vertex):\n",
    "        path[i].append(-1)\n",
    "table = [[1,2,4],[1,4,7],[1,6,8],[1,8,9],[2,4,7],[4,6,12],[8,6,6],[2,3,11],\n",
    "        [4,3,5],[4,5,10],[6,5,16],[6,7,15],[7,8,11],[8,9,12],[3,5,10],\n",
    "        [9,7,9],[3,10,16],[5,10,8],[7,10,4],[9,10,14]]\n",
    "\n",
    "# weight matrix\n",
    "for i in range(edge):\n",
    "    u, v, w = table[i][0],table[i][1],table[i][2]\n",
    "    u, v, w = int(u)-1, int(v)-1, int(w)\n",
    "    dis[u][v] = w\n",
    "print('the weight matrix is:')\n",
    "for i in range(vertex):\n",
    "    for j in range(vertex):\n",
    "        if dis[i][j] != inf:\n",
    "            print('%5d' % dis[i][j], end='')\n",
    "        else:\n",
    "            print('%5s' % '∞', end='')\n",
    "    print()\n",
    "\n",
    "\n",
    "# floyd algorithm\n",
    "for k in range(vertex):\n",
    "    for i in range(vertex):\n",
    "        for j in range(vertex):\n",
    "            if dis[i][j] > dis[i][k] + dis[k][j]:\n",
    "                dis[i][j] = dis[i][k] + dis[k][j]\n",
    "                path[i][j] = k\n",
    "print('===========================================')\n",
    "print('v%d ----> v%d  tol_weight:''%3d' % (1, 10, dis[0][9]))\n",
    "printPath(0, 9)"
   ]
  }
 ],
 "metadata": {
  "kernelspec": {
   "display_name": "Python 3",
   "language": "python",
   "name": "python3"
  },
  "language_info": {
   "codemirror_mode": {
    "name": "ipython",
    "version": 3
   },
   "file_extension": ".py",
   "mimetype": "text/x-python",
   "name": "python",
   "nbconvert_exporter": "python",
   "pygments_lexer": "ipython3",
   "version": "3.7.3"
  }
 },
 "nbformat": 4,
 "nbformat_minor": 2
}
