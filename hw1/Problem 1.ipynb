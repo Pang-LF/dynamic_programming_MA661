{
 "cells": [
  {
   "cell_type": "code",
   "execution_count": 32,
   "metadata": {
    "scrolled": true
   },
   "outputs": [
    {
     "name": "stdout",
     "output_type": "stream",
     "text": [
      "[0, 0, 0, 0, 1]\n",
      "6\n",
      "[0, 0, 0, 0, 2]\n",
      "12\n",
      "[0, 0, 0, 1, 1]\n",
      "14\n",
      "[0, 0, 0, 2, 0]\n",
      "16\n",
      "[1, 1, 0, 1, 0]\n",
      "17\n",
      "[3, 0, 0, 0, 1]\n",
      "18\n"
     ]
    }
   ],
   "source": [
    "def z():\n",
    "    zj=[0,0,0,0,0]\n",
    "    z=[0,0,0,0,0]\n",
    "    sum0 = 0\n",
    "    while zj[0] <=4:\n",
    "        zj[1] =0\n",
    "        while zj[1]<=4:\n",
    "            zj[2] =0\n",
    "            while zj[2]<=3:\n",
    "                zj[3] =0\n",
    "                while zj[3]<=2:\n",
    "                    zj[4] =0\n",
    "                    while zj[4]<=2:\n",
    "                        sum1 = 4*zj[0]+6*zj[1]+5*zj[2]+9*zj[3]+7*zj[4]\n",
    "                        sum2 = 4*zj[0]+5*zj[1]+4*zj[2]+8*zj[3]+6*zj[4] \n",
    "                        if sum1 < 20:\n",
    "                            if sum2>sum0:\n",
    "                                z = zj\n",
    "                                sum0=sum2\n",
    "                                print(z)\n",
    "                                print(sum2)\n",
    "                        zj[4] =zj[4]+1\n",
    "                    zj[3]=zj[3]+1\n",
    "                zj[2]=zj[2]+1\n",
    "            zj[1]=zj[1]+1\n",
    "        zj[0]=zj[0]+1\n",
    "\n",
    "z = z()"
   ]
  }
 ],
 "metadata": {
  "kernelspec": {
   "display_name": "Python 3",
   "language": "python",
   "name": "python3"
  },
  "language_info": {
   "codemirror_mode": {
    "name": "ipython",
    "version": 3
   },
   "file_extension": ".py",
   "mimetype": "text/x-python",
   "name": "python",
   "nbconvert_exporter": "python",
   "pygments_lexer": "ipython3",
   "version": "3.7.3"
  }
 },
 "nbformat": 4,
 "nbformat_minor": 2
}
