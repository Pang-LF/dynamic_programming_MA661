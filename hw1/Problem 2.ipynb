{
 "cells": [
  {
   "cell_type": "code",
   "execution_count": 5,
   "metadata": {},
   "outputs": [
    {
     "name": "stdout",
     "output_type": "stream",
     "text": [
      "Matrix: [[10, 30], [30, 70], [70, 2], [2, 100]]\n",
      "The number of multiplications：\n",
      "    1      2     3      4\n",
      "1  0  21000  4800   6800\n",
      "2  0      0  4200  10200\n",
      "3  0      0     0  14000\n",
      "4  0      0     0      0\n",
      "((A1(A2A3))A4)"
     ]
    }
   ],
   "source": [
    "import random\n",
    "from pandas import *\n",
    "\n",
    "matrix = [[10, 30], [30, 70], [70, 2], [2, 100]]\n",
    "m = [[0] * 4 for i in range(4)]         \n",
    "s = [[0] * 4 for j in range(4)]         \n",
    "\n",
    "def MatrixMultiplication(inp):\n",
    "    for i in range(inp):\n",
    "        m[i][i] = 0\n",
    "    for r in range(1, inp):\n",
    "        for i in range(inp-r):\n",
    "            j = i + r\n",
    "            m[i][j] = m[i+1][j] + matrix[i][0] * matrix[i][1] * matrix[j][1]\n",
    "            s[i][j] = i+1\n",
    "            for k in range(i+1, j):\n",
    "                judge = m[i][k] + m[k+1][j] + matrix[i][0] * matrix[k][1] * matrix[j][1]\n",
    "                if judge < m[i][j]:\n",
    "                    m[i][j] = judge\n",
    "                    s[i][j] = k+1\n",
    "                    \n",
    "def printmatrix(left, right):\n",
    "    if left == right:\n",
    "        print(\"A\"+str(left+1), end='')\n",
    "    else:\n",
    "        print(\"(\", end='')\n",
    "        printmatrix(left, s[left][right]-1)\n",
    "        printmatrix(s[left][right], right)\n",
    "        print(\")\", end='')\n",
    "\n",
    "MatrixMultiplication(4)\n",
    "dm = DataFrame(m, index=list(range(1, 5)), columns=list(range(1, 5)))\n",
    "ds = DataFrame(s, index=list(range(1, 5)), columns=list(range(1, 5)))\n",
    "print('Matrix:',matrix)\n",
    "print(\"The number of multiplications：\\n\", dm)\n",
    "printmatrix(0, 3)"
   ]
  }
 ],
 "metadata": {
  "kernelspec": {
   "display_name": "Python 3",
   "language": "python",
   "name": "python3"
  },
  "language_info": {
   "codemirror_mode": {
    "name": "ipython",
    "version": 3
   },
   "file_extension": ".py",
   "mimetype": "text/x-python",
   "name": "python",
   "nbconvert_exporter": "python",
   "pygments_lexer": "ipython3",
   "version": "3.7.3"
  }
 },
 "nbformat": 4,
 "nbformat_minor": 2
}
