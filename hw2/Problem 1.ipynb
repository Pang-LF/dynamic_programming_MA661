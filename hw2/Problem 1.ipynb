{
 "cells": [
  {
   "cell_type": "code",
   "execution_count": 42,
   "metadata": {},
   "outputs": [
    {
     "data": {
      "text/plain": [
       "5     4130\n",
       "7      654\n",
       "9      412\n",
       "11     290\n",
       "13     220\n",
       "dtype: int64"
      ]
     },
     "execution_count": 42,
     "metadata": {},
     "output_type": "execute_result"
    }
   ],
   "source": [
    "import random\n",
    "import numpy as np\n",
    "import pandas as pd\n",
    "\n",
    "def matchgame(way):\n",
    "    if way ==1:\n",
    "        random.seed(0)\n",
    "        p = np.array([0.1, 0.9, 0.0])\n",
    "        index = np.random.choice([-1, 0, 1], p = p.ravel())\n",
    "    elif way ==2:\n",
    "        random.seed(0)\n",
    "        p = np.array([0.55, 0.0, 0.45])\n",
    "        index = np.random.choice([-1, 0, 1], p = p.ravel())\n",
    "    return index\n",
    "i=0\n",
    "result=[]\n",
    "while i<10000:\n",
    "    reward=0\n",
    "    t=0\n",
    "    while t<100:\n",
    "        x=random.randint(1,2)\n",
    "        if t<5:\n",
    "            reward = reward+matchgame(x)\n",
    "            t=t+1\n",
    "        elif t>=5 and reward<1:\n",
    "            reward = reward+matchgame(x)\n",
    "            t=t+1\n",
    "        elif t>=5 and matchgame(x)==1:\n",
    "            result.append(t)\n",
    "            break\n",
    "    i=i+1\n",
    "\n",
    "pd.value_counts(result).head(5)"
   ]
  },
  {
   "cell_type": "markdown",
   "metadata": {},
   "source": [
    "#### As a result, The most likely way to win is to play 5+1= 6 games. So the best way to win is timid-timid-timid-timid-timid-bold"
   ]
  }
 ],
 "metadata": {
  "kernelspec": {
   "display_name": "Python 3",
   "language": "python",
   "name": "python3"
  },
  "language_info": {
   "codemirror_mode": {
    "name": "ipython",
    "version": 3
   },
   "file_extension": ".py",
   "mimetype": "text/x-python",
   "name": "python",
   "nbconvert_exporter": "python",
   "pygments_lexer": "ipython3",
   "version": "3.7.3"
  }
 },
 "nbformat": 4,
 "nbformat_minor": 2
}
