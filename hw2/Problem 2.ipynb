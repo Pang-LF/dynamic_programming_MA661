{
 "cells": [
  {
   "cell_type": "code",
   "execution_count": 42,
   "metadata": {},
   "outputs": [],
   "source": [
    "import sys\n",
    "sys.setrecursionlimit(1000000000)"
   ]
  },
  {
   "cell_type": "code",
   "execution_count": 71,
   "metadata": {},
   "outputs": [
    {
     "name": "stdout",
     "output_type": "stream",
     "text": [
      "36.027777791999995\n",
      "29.361111091199994\n"
     ]
    }
   ],
   "source": [
    "def sumreward(state,t,reward):\n",
    "    while t<=12:\n",
    "        if t==12:\n",
    "            return 0\n",
    "            break\n",
    "        elif state==1:\n",
    "            t=t+1\n",
    "            a=6+0.5*sumreward(2,t,reward)+0.5*sumreward(1,t,reward)\n",
    "            b=4+0.2*sumreward(2,t,reward)+0.8*sumreward(1,t,reward)\n",
    "            if a>=b:\n",
    "                reward=reward+a\n",
    "                choice='0 '\n",
    "            else:\n",
    "                reward=reward+a\n",
    "                choice='1 '\n",
    "            return reward\n",
    "        elif state==2:\n",
    "            t=t+1\n",
    "            c=1+sumreward(2,t,reward)\n",
    "            d=-2+0.7*sumreward(1,t,reward)+0.3*sumreward(2,t,reward)\n",
    "            if c>=d:\n",
    "                reward=reward+c\n",
    "                choice='1 '\n",
    "            else:\n",
    "                reward=reward+d\n",
    "                choice='0 '\n",
    "            return reward\n",
    "\n",
    "reward = 0\n",
    "t=0\n",
    "print(sumreward(1,t,reward))\n",
    "print(sumreward(2,t,reward))"
   ]
  },
  {
   "cell_type": "code",
   "execution_count": null,
   "metadata": {},
   "outputs": [],
   "source": []
  }
 ],
 "metadata": {
  "kernelspec": {
   "display_name": "Python 3",
   "language": "python",
   "name": "python3"
  },
  "language_info": {
   "codemirror_mode": {
    "name": "ipython",
    "version": 3
   },
   "file_extension": ".py",
   "mimetype": "text/x-python",
   "name": "python",
   "nbconvert_exporter": "python",
   "pygments_lexer": "ipython3",
   "version": "3.7.3"
  }
 },
 "nbformat": 4,
 "nbformat_minor": 2
}
